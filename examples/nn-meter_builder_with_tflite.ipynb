{
 "cells": [
  {
   "cell_type": "code",
   "execution_count": 1,
   "metadata": {},
   "outputs": [],
   "source": [
    "import warnings\n",
    "from silence_tensorflow import silence_tensorflow\n",
    "warnings.filterwarnings('ignore')\n",
    "silence_tensorflow() "
   ]
  },
  {
   "cell_type": "code",
   "execution_count": 2,
   "metadata": {},
   "outputs": [],
   "source": [
    "from nn_meter.builder.backends import connect_backend\n",
    "from nn_meter.builder import create_testcases, run_testcases, detect_fusionrule"
   ]
  },
  {
   "cell_type": "markdown",
   "metadata": {},
   "source": [
    "The first step to run rule_tester is to prepare a backends and create a workspace for experiment. Users could create a workspace folder by running the following command:\n",
    "\n",
    "``` Bash\n",
    "# for TFLite platform\n",
    "nn-meter create --tflite-workspace <path/to/place/workspace/>\n",
    "\n",
    "# for OpenVINO platform\n",
    "nn-meter create --openvino-workspace <path/to/place/workspace/>\n",
    "\n",
    "# for customized platform\n",
    "nn-meter create --customized-workspace <backend-name> <path/to/place/workspace/>\n",
    "```\n",
    "\n",
    "After running the command, a workspace folder will be created and two yaml files named `backend_config.yaml` and `ruletest_config.yaml`, i.e., configuration file for backend and rule_tester respectively, will be placed in `<workspace-path>/configs/`. Users could edit the content to change configuration. The config will take effect after the the config file is saved and closed.\n",
    "\n",
    "After creating the workspace and completing configuration, users could initialize workspace in `builder_config` module for experiments:"
   ]
  },
  {
   "cell_type": "code",
   "execution_count": 4,
   "metadata": {},
   "outputs": [],
   "source": [
    "# initialize workspace in code\n",
    "workspace_path = \"./tftest\" # text the path to the workspace folder. refer to ./backend.md for further information.\n",
    "from nn_meter.builder.utils import builder_config\n",
    "builder_config.init(\"tflite\", workspace_path)"
   ]
  },
  {
   "cell_type": "markdown",
   "metadata": {},
   "source": [
    "After creating the workspace, a yaml file named `ruletest_config.yaml` will be placed in `<workspace-path>/configs/`. Users could open `<workspace-path>/configs/ruletest_config.yaml` and edit the content. The config will take effect after the the config file is saved and closed.\n",
    "\n",
    "Following configuration from `<workspace-path>/configs/ruletest_config.yaml`, the test cases can be created by running:"
   ]
  },
  {
   "cell_type": "code",
   "execution_count": 9,
   "metadata": {},
   "outputs": [
    {
     "name": "stderr",
     "output_type": "stream",
     "text": [
      "WARNING:absl:Found untraced functions such as conv2d_40_layer_call_and_return_conditional_losses, conv2d_40_layer_call_fn, conv2d_41_layer_call_and_return_conditional_losses, conv2d_41_layer_call_fn, conv2d_40_layer_call_fn while saving (showing 5 of 10). These functions will not be directly callable after loading.\n",
      "WARNING:absl:Found untraced functions such as conv2d_40_layer_call_and_return_conditional_losses, conv2d_40_layer_call_fn, conv2d_41_layer_call_and_return_conditional_losses, conv2d_41_layer_call_fn, conv2d_40_layer_call_fn while saving (showing 5 of 10). These functions will not be directly callable after loading.\n",
      "WARNING:absl:Found untraced functions such as conv2d_42_layer_call_and_return_conditional_losses, conv2d_42_layer_call_fn, conv2d_43_layer_call_and_return_conditional_losses, conv2d_43_layer_call_fn, conv2d_42_layer_call_fn while saving (showing 5 of 10). These functions will not be directly callable after loading.\n",
      "WARNING:absl:Found untraced functions such as conv2d_42_layer_call_and_return_conditional_losses, conv2d_42_layer_call_fn, conv2d_43_layer_call_and_return_conditional_losses, conv2d_43_layer_call_fn, conv2d_42_layer_call_fn while saving (showing 5 of 10). These functions will not be directly callable after loading.\n"
     ]
    }
   ],
   "source": [
    "# generate testcases\n",
    "origin_testcases = create_testcases()"
   ]
  },
  {
   "cell_type": "markdown",
   "metadata": {},
   "source": [
    "The test case models will be saved in `<workspace-path>/testcases_ruletest/`, and the test case dictionary will be saved in `<workspace-path>/results/origin_testcases.json`. \n",
    "\n",
    "If the test cases has been created before, users could directly use the generated json file of test cases to avoid creating test cases again:"
   ]
  },
  {
   "cell_type": "code",
   "execution_count": null,
   "metadata": {},
   "outputs": [],
   "source": [
    "import os\n",
    "origin_testcases = os.path.join(workspace_path, \"results\", \"origin_testcases.json\")"
   ]
  },
  {
   "cell_type": "markdown",
   "metadata": {},
   "source": [
    "Next step is to run and profile test cases on the backend. Given required backend, users could run test cases model and get profiled latency value by running:"
   ]
  },
  {
   "cell_type": "code",
   "execution_count": 7,
   "metadata": {},
   "outputs": [
    {
     "name": "stderr",
     "output_type": "stream",
     "text": [
      "WARNING:absl:Found untraced functions such as re_lu_34_layer_call_fn, re_lu_34_layer_call_and_return_conditional_losses, re_lu_34_layer_call_fn, re_lu_34_layer_call_and_return_conditional_losses, re_lu_34_layer_call_and_return_conditional_losses while saving (showing 5 of 5). These functions will not be directly callable after loading.\n",
      "WARNING:absl:Found untraced functions such as re_lu_34_layer_call_fn, re_lu_34_layer_call_and_return_conditional_losses, re_lu_34_layer_call_fn, re_lu_34_layer_call_and_return_conditional_losses, re_lu_34_layer_call_and_return_conditional_losses while saving (showing 5 of 5). These functions will not be directly callable after loading.\n",
      "WARNING:absl:Function `_wrapped_model` contains input name(s) inputs/0, inputs/1 with unsupported characters which will be renamed to inputs_0, inputs_1 in the SavedModel.\n",
      "WARNING:absl:Found untraced functions such as add_24_layer_call_fn, add_24_layer_call_and_return_conditional_losses, add_24_layer_call_fn, add_24_layer_call_and_return_conditional_losses, add_24_layer_call_and_return_conditional_losses while saving (showing 5 of 5). These functions will not be directly callable after loading.\n",
      "WARNING:absl:Function `_wrapped_model` contains input name(s) inputs/0, inputs/1 with unsupported characters which will be renamed to inputs_0, inputs_1 in the SavedModel.\n",
      "WARNING:absl:Found untraced functions such as add_24_layer_call_fn, add_24_layer_call_and_return_conditional_losses, add_24_layer_call_fn, add_24_layer_call_and_return_conditional_losses, add_24_layer_call_and_return_conditional_losses while saving (showing 5 of 5). These functions will not be directly callable after loading.\n",
      "WARNING:absl:Found untraced functions such as conv2d_22_layer_call_fn, conv2d_22_layer_call_and_return_conditional_losses, conv2d_22_layer_call_fn, conv2d_22_layer_call_and_return_conditional_losses, conv2d_22_layer_call_and_return_conditional_losses while saving (showing 5 of 5). These functions will not be directly callable after loading.\n",
      "WARNING:absl:Found untraced functions such as conv2d_22_layer_call_fn, conv2d_22_layer_call_and_return_conditional_losses, conv2d_22_layer_call_fn, conv2d_22_layer_call_and_return_conditional_losses, conv2d_22_layer_call_and_return_conditional_losses while saving (showing 5 of 5). These functions will not be directly callable after loading.\n",
      "WARNING:absl:Function `_wrapped_model` contains input name(s) inputs/0, inputs/1 with unsupported characters which will be renamed to inputs_0, inputs_1 in the SavedModel.\n",
      "WARNING:absl:Found untraced functions such as concatenate_18_layer_call_fn, concatenate_18_layer_call_and_return_conditional_losses, concatenate_18_layer_call_fn, concatenate_18_layer_call_and_return_conditional_losses, concatenate_18_layer_call_and_return_conditional_losses while saving (showing 5 of 5). These functions will not be directly callable after loading.\n",
      "WARNING:absl:Function `_wrapped_model` contains input name(s) inputs/0, inputs/1 with unsupported characters which will be renamed to inputs_0, inputs_1 in the SavedModel.\n",
      "WARNING:absl:Found untraced functions such as concatenate_18_layer_call_fn, concatenate_18_layer_call_and_return_conditional_losses, concatenate_18_layer_call_fn, concatenate_18_layer_call_and_return_conditional_losses, concatenate_18_layer_call_and_return_conditional_losses while saving (showing 5 of 5). These functions will not be directly callable after loading.\n",
      "WARNING:absl:Found untraced functions such as re_lu_35_layer_call_fn, re_lu_35_layer_call_and_return_conditional_losses, re_lu_35_layer_call_fn, re_lu_35_layer_call_and_return_conditional_losses, re_lu_35_layer_call_and_return_conditional_losses while saving (showing 5 of 5). These functions will not be directly callable after loading.\n",
      "WARNING:absl:Found untraced functions such as re_lu_35_layer_call_fn, re_lu_35_layer_call_and_return_conditional_losses, re_lu_35_layer_call_fn, re_lu_35_layer_call_and_return_conditional_losses, re_lu_35_layer_call_and_return_conditional_losses while saving (showing 5 of 5). These functions will not be directly callable after loading.\n",
      "WARNING:absl:Function `_wrapped_model` contains input name(s) inputs/0, inputs/1 with unsupported characters which will be renamed to inputs_0, inputs_1 in the SavedModel.\n",
      "WARNING:absl:Found untraced functions such as add_25_layer_call_fn, add_25_layer_call_and_return_conditional_losses, add_25_layer_call_fn, add_25_layer_call_and_return_conditional_losses, add_25_layer_call_and_return_conditional_losses while saving (showing 5 of 5). These functions will not be directly callable after loading.\n",
      "WARNING:absl:Function `_wrapped_model` contains input name(s) inputs/0, inputs/1 with unsupported characters which will be renamed to inputs_0, inputs_1 in the SavedModel.\n",
      "WARNING:absl:Found untraced functions such as add_25_layer_call_fn, add_25_layer_call_and_return_conditional_losses, add_25_layer_call_fn, add_25_layer_call_and_return_conditional_losses, add_25_layer_call_and_return_conditional_losses while saving (showing 5 of 5). These functions will not be directly callable after loading.\n",
      "WARNING:absl:Found untraced functions such as conv2d_23_layer_call_fn, conv2d_23_layer_call_and_return_conditional_losses, conv2d_23_layer_call_fn, conv2d_23_layer_call_and_return_conditional_losses, conv2d_23_layer_call_and_return_conditional_losses while saving (showing 5 of 5). These functions will not be directly callable after loading.\n",
      "WARNING:absl:Found untraced functions such as conv2d_23_layer_call_fn, conv2d_23_layer_call_and_return_conditional_losses, conv2d_23_layer_call_fn, conv2d_23_layer_call_and_return_conditional_losses, conv2d_23_layer_call_and_return_conditional_losses while saving (showing 5 of 5). These functions will not be directly callable after loading.\n",
      "WARNING:absl:Function `_wrapped_model` contains input name(s) inputs/0, inputs/1 with unsupported characters which will be renamed to inputs_0, inputs_1 in the SavedModel.\n",
      "WARNING:absl:Found untraced functions such as concatenate_19_layer_call_fn, concatenate_19_layer_call_and_return_conditional_losses, concatenate_19_layer_call_fn, concatenate_19_layer_call_and_return_conditional_losses, concatenate_19_layer_call_and_return_conditional_losses while saving (showing 5 of 5). These functions will not be directly callable after loading.\n",
      "WARNING:absl:Function `_wrapped_model` contains input name(s) inputs/0, inputs/1 with unsupported characters which will be renamed to inputs_0, inputs_1 in the SavedModel.\n",
      "WARNING:absl:Found untraced functions such as concatenate_19_layer_call_fn, concatenate_19_layer_call_and_return_conditional_losses, concatenate_19_layer_call_fn, concatenate_19_layer_call_and_return_conditional_losses, concatenate_19_layer_call_and_return_conditional_losses while saving (showing 5 of 5). These functions will not be directly callable after loading.\n",
      "WARNING:absl:Found untraced functions such as re_lu_36_layer_call_fn, re_lu_36_layer_call_and_return_conditional_losses, re_lu_36_layer_call_fn, re_lu_36_layer_call_and_return_conditional_losses, re_lu_36_layer_call_and_return_conditional_losses while saving (showing 5 of 5). These functions will not be directly callable after loading.\n",
      "WARNING:absl:Found untraced functions such as re_lu_36_layer_call_fn, re_lu_36_layer_call_and_return_conditional_losses, re_lu_36_layer_call_fn, re_lu_36_layer_call_and_return_conditional_losses, re_lu_36_layer_call_and_return_conditional_losses while saving (showing 5 of 5). These functions will not be directly callable after loading.\n",
      "WARNING:absl:Found untraced functions such as re_lu_37_layer_call_fn, re_lu_37_layer_call_and_return_conditional_losses, re_lu_37_layer_call_fn, re_lu_37_layer_call_and_return_conditional_losses, re_lu_37_layer_call_and_return_conditional_losses while saving (showing 5 of 5). These functions will not be directly callable after loading.\n",
      "WARNING:absl:Found untraced functions such as re_lu_37_layer_call_fn, re_lu_37_layer_call_and_return_conditional_losses, re_lu_37_layer_call_fn, re_lu_37_layer_call_and_return_conditional_losses, re_lu_37_layer_call_and_return_conditional_losses while saving (showing 5 of 5). These functions will not be directly callable after loading.\n",
      "WARNING:absl:Found untraced functions such as re_lu_38_layer_call_fn, re_lu_38_layer_call_and_return_conditional_losses, re_lu_38_layer_call_fn, re_lu_38_layer_call_and_return_conditional_losses, re_lu_38_layer_call_and_return_conditional_losses while saving (showing 5 of 5). These functions will not be directly callable after loading.\n",
      "WARNING:absl:Found untraced functions such as re_lu_39_layer_call_fn, re_lu_39_layer_call_and_return_conditional_losses, re_lu_39_layer_call_fn, re_lu_39_layer_call_and_return_conditional_losses, re_lu_39_layer_call_and_return_conditional_losses while saving (showing 5 of 5). These functions will not be directly callable after loading.\n",
      "WARNING:absl:Found untraced functions such as re_lu_38_layer_call_fn, re_lu_38_layer_call_and_return_conditional_losses, re_lu_39_layer_call_fn, re_lu_39_layer_call_and_return_conditional_losses, re_lu_38_layer_call_fn while saving (showing 5 of 10). These functions will not be directly callable after loading.\n",
      "WARNING:absl:Found untraced functions such as re_lu_40_layer_call_fn, re_lu_40_layer_call_and_return_conditional_losses, re_lu_40_layer_call_fn, re_lu_40_layer_call_and_return_conditional_losses, re_lu_40_layer_call_and_return_conditional_losses while saving (showing 5 of 5). These functions will not be directly callable after loading.\n",
      "WARNING:absl:Function `_wrapped_model` contains input name(s) inputs/0, inputs/1 with unsupported characters which will be renamed to inputs_0, inputs_1 in the SavedModel.\n",
      "WARNING:absl:Found untraced functions such as add_26_layer_call_fn, add_26_layer_call_and_return_conditional_losses, add_26_layer_call_fn, add_26_layer_call_and_return_conditional_losses, add_26_layer_call_and_return_conditional_losses while saving (showing 5 of 5). These functions will not be directly callable after loading.\n",
      "WARNING:absl:Function `_wrapped_model` contains input name(s) inputs/0, inputs/1 with unsupported characters which will be renamed to inputs_0, inputs_1 in the SavedModel.\n",
      "WARNING:absl:Found untraced functions such as re_lu_40_layer_call_fn, re_lu_40_layer_call_and_return_conditional_losses, add_26_layer_call_fn, add_26_layer_call_and_return_conditional_losses, re_lu_40_layer_call_fn while saving (showing 5 of 10). These functions will not be directly callable after loading.\n",
      "WARNING:absl:Found untraced functions such as re_lu_41_layer_call_fn, re_lu_41_layer_call_and_return_conditional_losses, re_lu_41_layer_call_fn, re_lu_41_layer_call_and_return_conditional_losses, re_lu_41_layer_call_and_return_conditional_losses while saving (showing 5 of 5). These functions will not be directly callable after loading.\n",
      "WARNING:absl:Found untraced functions such as conv2d_24_layer_call_fn, conv2d_24_layer_call_and_return_conditional_losses, conv2d_24_layer_call_fn, conv2d_24_layer_call_and_return_conditional_losses, conv2d_24_layer_call_and_return_conditional_losses while saving (showing 5 of 5). These functions will not be directly callable after loading.\n",
      "WARNING:absl:Found untraced functions such as re_lu_41_layer_call_fn, re_lu_41_layer_call_and_return_conditional_losses, conv2d_24_layer_call_fn, conv2d_24_layer_call_and_return_conditional_losses, re_lu_41_layer_call_fn while saving (showing 5 of 10). These functions will not be directly callable after loading.\n",
      "WARNING:absl:Found untraced functions such as re_lu_42_layer_call_fn, re_lu_42_layer_call_and_return_conditional_losses, re_lu_42_layer_call_fn, re_lu_42_layer_call_and_return_conditional_losses, re_lu_42_layer_call_and_return_conditional_losses while saving (showing 5 of 5). These functions will not be directly callable after loading.\n",
      "WARNING:absl:Function `_wrapped_model` contains input name(s) inputs/0, inputs/1 with unsupported characters which will be renamed to inputs_0, inputs_1 in the SavedModel.\n",
      "WARNING:absl:Found untraced functions such as concatenate_20_layer_call_fn, concatenate_20_layer_call_and_return_conditional_losses, concatenate_20_layer_call_fn, concatenate_20_layer_call_and_return_conditional_losses, concatenate_20_layer_call_and_return_conditional_losses while saving (showing 5 of 5). These functions will not be directly callable after loading.\n",
      "WARNING:absl:Function `_wrapped_model` contains input name(s) inputs/0, inputs/1 with unsupported characters which will be renamed to inputs_0, inputs_1 in the SavedModel.\n",
      "WARNING:absl:Found untraced functions such as re_lu_42_layer_call_fn, re_lu_42_layer_call_and_return_conditional_losses, concatenate_20_layer_call_fn, concatenate_20_layer_call_and_return_conditional_losses, re_lu_42_layer_call_fn while saving (showing 5 of 10). These functions will not be directly callable after loading.\n",
      "WARNING:absl:Found untraced functions such as re_lu_43_layer_call_fn, re_lu_43_layer_call_and_return_conditional_losses, re_lu_43_layer_call_fn, re_lu_43_layer_call_and_return_conditional_losses, re_lu_43_layer_call_and_return_conditional_losses while saving (showing 5 of 5). These functions will not be directly callable after loading.\n",
      "WARNING:absl:Found untraced functions such as re_lu_43_layer_call_fn, re_lu_43_layer_call_and_return_conditional_losses, re_lu_43_layer_call_fn, re_lu_43_layer_call_and_return_conditional_losses, re_lu_43_layer_call_and_return_conditional_losses while saving (showing 5 of 5). These functions will not be directly callable after loading.\n",
      "WARNING:absl:Found untraced functions such as re_lu_44_layer_call_fn, re_lu_44_layer_call_and_return_conditional_losses, re_lu_44_layer_call_fn, re_lu_44_layer_call_and_return_conditional_losses, re_lu_44_layer_call_and_return_conditional_losses while saving (showing 5 of 5). These functions will not be directly callable after loading.\n",
      "WARNING:absl:Found untraced functions such as dense_8_layer_call_fn, dense_8_layer_call_and_return_conditional_losses, dense_8_layer_call_fn, dense_8_layer_call_and_return_conditional_losses, dense_8_layer_call_and_return_conditional_losses while saving (showing 5 of 5). These functions will not be directly callable after loading.\n",
      "WARNING:absl:Found untraced functions such as re_lu_44_layer_call_fn, re_lu_44_layer_call_and_return_conditional_losses, dense_8_layer_call_fn, dense_8_layer_call_and_return_conditional_losses, re_lu_44_layer_call_fn while saving (showing 5 of 10). These functions will not be directly callable after loading.\n",
      "WARNING:absl:Found untraced functions such as re_lu_45_layer_call_fn, re_lu_45_layer_call_and_return_conditional_losses, re_lu_45_layer_call_fn, re_lu_45_layer_call_and_return_conditional_losses, re_lu_45_layer_call_and_return_conditional_losses while saving (showing 5 of 5). These functions will not be directly callable after loading.\n",
      "WARNING:absl:Found untraced functions such as re_lu_45_layer_call_fn, re_lu_45_layer_call_and_return_conditional_losses, re_lu_45_layer_call_fn, re_lu_45_layer_call_and_return_conditional_losses, re_lu_45_layer_call_and_return_conditional_losses while saving (showing 5 of 5). These functions will not be directly callable after loading.\n",
      "WARNING:absl:Function `_wrapped_model` contains input name(s) inputs/0, inputs/1 with unsupported characters which will be renamed to inputs_0, inputs_1 in the SavedModel.\n",
      "WARNING:absl:Found untraced functions such as add_27_layer_call_fn, add_27_layer_call_and_return_conditional_losses, add_27_layer_call_fn, add_27_layer_call_and_return_conditional_losses, add_27_layer_call_and_return_conditional_losses while saving (showing 5 of 5). These functions will not be directly callable after loading.\n",
      "WARNING:absl:Function `_wrapped_model` contains input name(s) inputs/0, inputs/1 with unsupported characters which will be renamed to inputs_0, inputs_1 in the SavedModel.\n",
      "WARNING:absl:Found untraced functions such as add_27_layer_call_fn, add_27_layer_call_and_return_conditional_losses, add_27_layer_call_fn, add_27_layer_call_and_return_conditional_losses, add_27_layer_call_and_return_conditional_losses while saving (showing 5 of 5). These functions will not be directly callable after loading.\n",
      "WARNING:absl:Function `_wrapped_model` contains input name(s) inputs/0, inputs/1 with unsupported characters which will be renamed to inputs_0, inputs_1 in the SavedModel.\n",
      "WARNING:absl:Found untraced functions such as add_28_layer_call_fn, add_28_layer_call_and_return_conditional_losses, add_28_layer_call_fn, add_28_layer_call_and_return_conditional_losses, add_28_layer_call_and_return_conditional_losses while saving (showing 5 of 5). These functions will not be directly callable after loading.\n",
      "WARNING:absl:Function `_wrapped_model` contains input name(s) inputs/0, inputs/1 with unsupported characters which will be renamed to inputs_0, inputs_1 in the SavedModel.\n",
      "WARNING:absl:Found untraced functions such as add_28_layer_call_fn, add_28_layer_call_and_return_conditional_losses, add_28_layer_call_fn, add_28_layer_call_and_return_conditional_losses, add_28_layer_call_and_return_conditional_losses while saving (showing 5 of 5). These functions will not be directly callable after loading.\n",
      "WARNING:absl:Function `_wrapped_model` contains input name(s) inputs/0, inputs/1 with unsupported characters which will be renamed to inputs_0, inputs_1 in the SavedModel.\n",
      "WARNING:absl:Found untraced functions such as add_29_layer_call_fn, add_29_layer_call_and_return_conditional_losses, add_29_layer_call_fn, add_29_layer_call_and_return_conditional_losses, add_29_layer_call_and_return_conditional_losses while saving (showing 5 of 5). These functions will not be directly callable after loading.\n",
      "WARNING:absl:Found untraced functions such as re_lu_46_layer_call_fn, re_lu_46_layer_call_and_return_conditional_losses, re_lu_46_layer_call_fn, re_lu_46_layer_call_and_return_conditional_losses, re_lu_46_layer_call_and_return_conditional_losses while saving (showing 5 of 5). These functions will not be directly callable after loading.\n",
      "WARNING:absl:Function `_wrapped_model` contains input name(s) inputs/0, inputs/1 with unsupported characters which will be renamed to inputs_0, inputs_1 in the SavedModel.\n",
      "WARNING:absl:Found untraced functions such as add_29_layer_call_fn, add_29_layer_call_and_return_conditional_losses, re_lu_46_layer_call_fn, re_lu_46_layer_call_and_return_conditional_losses, add_29_layer_call_fn while saving (showing 5 of 10). These functions will not be directly callable after loading.\n",
      "WARNING:absl:Function `_wrapped_model` contains input name(s) inputs/0, inputs/1 with unsupported characters which will be renamed to inputs_0, inputs_1 in the SavedModel.\n",
      "WARNING:absl:Found untraced functions such as add_30_layer_call_fn, add_30_layer_call_and_return_conditional_losses, add_30_layer_call_fn, add_30_layer_call_and_return_conditional_losses, add_30_layer_call_and_return_conditional_losses while saving (showing 5 of 5). These functions will not be directly callable after loading.\n",
      "WARNING:absl:Function `_wrapped_model` contains input name(s) inputs/0, inputs/1 with unsupported characters which will be renamed to inputs_0, inputs_1 in the SavedModel.\n",
      "WARNING:absl:Found untraced functions such as add_31_layer_call_fn, add_31_layer_call_and_return_conditional_losses, add_31_layer_call_fn, add_31_layer_call_and_return_conditional_losses, add_31_layer_call_and_return_conditional_losses while saving (showing 5 of 5). These functions will not be directly callable after loading.\n",
      "WARNING:absl:Function `_wrapped_model` contains input name(s) inputs/0, inputs/1, inputs/2 with unsupported characters which will be renamed to inputs_0, inputs_1, inputs_2 in the SavedModel.\n",
      "WARNING:absl:Found untraced functions such as add_30_layer_call_fn, add_30_layer_call_and_return_conditional_losses, add_31_layer_call_fn, add_31_layer_call_and_return_conditional_losses, add_30_layer_call_fn while saving (showing 5 of 10). These functions will not be directly callable after loading.\n",
      "WARNING:absl:Function `_wrapped_model` contains input name(s) inputs/0, inputs/1 with unsupported characters which will be renamed to inputs_0, inputs_1 in the SavedModel.\n",
      "WARNING:absl:Found untraced functions such as add_32_layer_call_fn, add_32_layer_call_and_return_conditional_losses, add_32_layer_call_fn, add_32_layer_call_and_return_conditional_losses, add_32_layer_call_and_return_conditional_losses while saving (showing 5 of 5). These functions will not be directly callable after loading.\n",
      "WARNING:absl:Found untraced functions such as conv2d_25_layer_call_fn, conv2d_25_layer_call_and_return_conditional_losses, conv2d_25_layer_call_fn, conv2d_25_layer_call_and_return_conditional_losses, conv2d_25_layer_call_and_return_conditional_losses while saving (showing 5 of 5). These functions will not be directly callable after loading.\n",
      "WARNING:absl:Function `_wrapped_model` contains input name(s) inputs/0, inputs/1 with unsupported characters which will be renamed to inputs_0, inputs_1 in the SavedModel.\n",
      "WARNING:absl:Found untraced functions such as add_32_layer_call_fn, add_32_layer_call_and_return_conditional_losses, conv2d_25_layer_call_fn, conv2d_25_layer_call_and_return_conditional_losses, add_32_layer_call_fn while saving (showing 5 of 10). These functions will not be directly callable after loading.\n",
      "WARNING:absl:Function `_wrapped_model` contains input name(s) inputs/0, inputs/1 with unsupported characters which will be renamed to inputs_0, inputs_1 in the SavedModel.\n",
      "WARNING:absl:Found untraced functions such as add_33_layer_call_fn, add_33_layer_call_and_return_conditional_losses, add_33_layer_call_fn, add_33_layer_call_and_return_conditional_losses, add_33_layer_call_and_return_conditional_losses while saving (showing 5 of 5). These functions will not be directly callable after loading.\n",
      "WARNING:absl:Function `_wrapped_model` contains input name(s) inputs/0, inputs/1 with unsupported characters which will be renamed to inputs_0, inputs_1 in the SavedModel.\n",
      "WARNING:absl:Found untraced functions such as concatenate_21_layer_call_fn, concatenate_21_layer_call_and_return_conditional_losses, concatenate_21_layer_call_fn, concatenate_21_layer_call_and_return_conditional_losses, concatenate_21_layer_call_and_return_conditional_losses while saving (showing 5 of 5). These functions will not be directly callable after loading.\n",
      "WARNING:absl:Function `_wrapped_model` contains input name(s) inputs/0, inputs/1, inputs/2 with unsupported characters which will be renamed to inputs_0, inputs_1, inputs_2 in the SavedModel.\n",
      "WARNING:absl:Found untraced functions such as add_33_layer_call_fn, add_33_layer_call_and_return_conditional_losses, concatenate_21_layer_call_fn, concatenate_21_layer_call_and_return_conditional_losses, add_33_layer_call_fn while saving (showing 5 of 10). These functions will not be directly callable after loading.\n",
      "WARNING:absl:Function `_wrapped_model` contains input name(s) inputs/0, inputs/1 with unsupported characters which will be renamed to inputs_0, inputs_1 in the SavedModel.\n",
      "WARNING:absl:Found untraced functions such as add_34_layer_call_fn, add_34_layer_call_and_return_conditional_losses, add_34_layer_call_fn, add_34_layer_call_and_return_conditional_losses, add_34_layer_call_and_return_conditional_losses while saving (showing 5 of 5). These functions will not be directly callable after loading.\n",
      "WARNING:absl:Function `_wrapped_model` contains input name(s) inputs/0, inputs/1 with unsupported characters which will be renamed to inputs_0, inputs_1 in the SavedModel.\n",
      "WARNING:absl:Found untraced functions such as add_34_layer_call_fn, add_34_layer_call_and_return_conditional_losses, add_34_layer_call_fn, add_34_layer_call_and_return_conditional_losses, add_34_layer_call_and_return_conditional_losses while saving (showing 5 of 5). These functions will not be directly callable after loading.\n",
      "WARNING:absl:Function `_wrapped_model` contains input name(s) inputs/0, inputs/1 with unsupported characters which will be renamed to inputs_0, inputs_1 in the SavedModel.\n",
      "WARNING:absl:Found untraced functions such as add_35_layer_call_fn, add_35_layer_call_and_return_conditional_losses, add_35_layer_call_fn, add_35_layer_call_and_return_conditional_losses, add_35_layer_call_and_return_conditional_losses while saving (showing 5 of 5). These functions will not be directly callable after loading.\n",
      "WARNING:absl:Found untraced functions such as dense_9_layer_call_fn, dense_9_layer_call_and_return_conditional_losses, dense_9_layer_call_fn, dense_9_layer_call_and_return_conditional_losses, dense_9_layer_call_and_return_conditional_losses while saving (showing 5 of 5). These functions will not be directly callable after loading.\n",
      "WARNING:absl:Function `_wrapped_model` contains input name(s) inputs/0, inputs/1 with unsupported characters which will be renamed to inputs_0, inputs_1 in the SavedModel.\n",
      "WARNING:absl:Found untraced functions such as add_35_layer_call_fn, add_35_layer_call_and_return_conditional_losses, dense_9_layer_call_fn, dense_9_layer_call_and_return_conditional_losses, add_35_layer_call_fn while saving (showing 5 of 10). These functions will not be directly callable after loading.\n",
      "WARNING:absl:Function `_wrapped_model` contains input name(s) inputs/0, inputs/1 with unsupported characters which will be renamed to inputs_0, inputs_1 in the SavedModel.\n",
      "WARNING:absl:Found untraced functions such as add_36_layer_call_fn, add_36_layer_call_and_return_conditional_losses, add_36_layer_call_fn, add_36_layer_call_and_return_conditional_losses, add_36_layer_call_and_return_conditional_losses while saving (showing 5 of 5). These functions will not be directly callable after loading.\n",
      "WARNING:absl:Function `_wrapped_model` contains input name(s) inputs/0, inputs/1 with unsupported characters which will be renamed to inputs_0, inputs_1 in the SavedModel.\n",
      "WARNING:absl:Found untraced functions such as add_36_layer_call_fn, add_36_layer_call_and_return_conditional_losses, add_36_layer_call_fn, add_36_layer_call_and_return_conditional_losses, add_36_layer_call_and_return_conditional_losses while saving (showing 5 of 5). These functions will not be directly callable after loading.\n",
      "WARNING:absl:Found untraced functions such as conv2d_26_layer_call_fn, conv2d_26_layer_call_and_return_conditional_losses, conv2d_26_layer_call_fn, conv2d_26_layer_call_and_return_conditional_losses, conv2d_26_layer_call_and_return_conditional_losses while saving (showing 5 of 5). These functions will not be directly callable after loading.\n",
      "WARNING:absl:Found untraced functions such as conv2d_26_layer_call_fn, conv2d_26_layer_call_and_return_conditional_losses, conv2d_26_layer_call_fn, conv2d_26_layer_call_and_return_conditional_losses, conv2d_26_layer_call_and_return_conditional_losses while saving (showing 5 of 5). These functions will not be directly callable after loading.\n",
      "WARNING:absl:Found untraced functions such as conv2d_27_layer_call_fn, conv2d_27_layer_call_and_return_conditional_losses, conv2d_27_layer_call_fn, conv2d_27_layer_call_and_return_conditional_losses, conv2d_27_layer_call_and_return_conditional_losses while saving (showing 5 of 5). These functions will not be directly callable after loading.\n",
      "WARNING:absl:Found untraced functions such as conv2d_27_layer_call_fn, conv2d_27_layer_call_and_return_conditional_losses, conv2d_27_layer_call_fn, conv2d_27_layer_call_and_return_conditional_losses, conv2d_27_layer_call_and_return_conditional_losses while saving (showing 5 of 5). These functions will not be directly callable after loading.\n",
      "WARNING:absl:Found untraced functions such as conv2d_28_layer_call_fn, conv2d_28_layer_call_and_return_conditional_losses, conv2d_28_layer_call_fn, conv2d_28_layer_call_and_return_conditional_losses, conv2d_28_layer_call_and_return_conditional_losses while saving (showing 5 of 5). These functions will not be directly callable after loading.\n",
      "WARNING:absl:Found untraced functions such as re_lu_47_layer_call_fn, re_lu_47_layer_call_and_return_conditional_losses, re_lu_47_layer_call_fn, re_lu_47_layer_call_and_return_conditional_losses, re_lu_47_layer_call_and_return_conditional_losses while saving (showing 5 of 5). These functions will not be directly callable after loading.\n",
      "WARNING:absl:Found untraced functions such as conv2d_28_layer_call_fn, conv2d_28_layer_call_and_return_conditional_losses, re_lu_47_layer_call_fn, re_lu_47_layer_call_and_return_conditional_losses, conv2d_28_layer_call_fn while saving (showing 5 of 10). These functions will not be directly callable after loading.\n",
      "WARNING:absl:Found untraced functions such as conv2d_29_layer_call_fn, conv2d_29_layer_call_and_return_conditional_losses, conv2d_29_layer_call_fn, conv2d_29_layer_call_and_return_conditional_losses, conv2d_29_layer_call_and_return_conditional_losses while saving (showing 5 of 5). These functions will not be directly callable after loading.\n",
      "WARNING:absl:Function `_wrapped_model` contains input name(s) inputs/0, inputs/1 with unsupported characters which will be renamed to inputs_0, inputs_1 in the SavedModel.\n",
      "WARNING:absl:Found untraced functions such as add_37_layer_call_fn, add_37_layer_call_and_return_conditional_losses, add_37_layer_call_fn, add_37_layer_call_and_return_conditional_losses, add_37_layer_call_and_return_conditional_losses while saving (showing 5 of 5). These functions will not be directly callable after loading.\n",
      "WARNING:absl:Function `_wrapped_model` contains input name(s) inputs/0, inputs/1 with unsupported characters which will be renamed to inputs_0, inputs_1 in the SavedModel.\n",
      "WARNING:absl:Found untraced functions such as conv2d_29_layer_call_fn, conv2d_29_layer_call_and_return_conditional_losses, add_37_layer_call_fn, add_37_layer_call_and_return_conditional_losses, conv2d_29_layer_call_fn while saving (showing 5 of 10). These functions will not be directly callable after loading.\n",
      "WARNING:absl:Found untraced functions such as conv2d_30_layer_call_fn, conv2d_30_layer_call_and_return_conditional_losses, conv2d_30_layer_call_fn, conv2d_30_layer_call_and_return_conditional_losses, conv2d_30_layer_call_and_return_conditional_losses while saving (showing 5 of 5). These functions will not be directly callable after loading.\n",
      "WARNING:absl:Found untraced functions such as conv2d_31_layer_call_fn, conv2d_31_layer_call_and_return_conditional_losses, conv2d_31_layer_call_fn, conv2d_31_layer_call_and_return_conditional_losses, conv2d_31_layer_call_and_return_conditional_losses while saving (showing 5 of 5). These functions will not be directly callable after loading.\n",
      "WARNING:absl:Found untraced functions such as conv2d_30_layer_call_fn, conv2d_30_layer_call_and_return_conditional_losses, conv2d_31_layer_call_fn, conv2d_31_layer_call_and_return_conditional_losses, conv2d_30_layer_call_fn while saving (showing 5 of 10). These functions will not be directly callable after loading.\n",
      "WARNING:absl:Found untraced functions such as conv2d_32_layer_call_fn, conv2d_32_layer_call_and_return_conditional_losses, conv2d_32_layer_call_fn, conv2d_32_layer_call_and_return_conditional_losses, conv2d_32_layer_call_and_return_conditional_losses while saving (showing 5 of 5). These functions will not be directly callable after loading.\n",
      "WARNING:absl:Function `_wrapped_model` contains input name(s) inputs/0, inputs/1 with unsupported characters which will be renamed to inputs_0, inputs_1 in the SavedModel.\n",
      "WARNING:absl:Found untraced functions such as concatenate_22_layer_call_fn, concatenate_22_layer_call_and_return_conditional_losses, concatenate_22_layer_call_fn, concatenate_22_layer_call_and_return_conditional_losses, concatenate_22_layer_call_and_return_conditional_losses while saving (showing 5 of 5). These functions will not be directly callable after loading.\n",
      "WARNING:absl:Function `_wrapped_model` contains input name(s) inputs/0, inputs/1 with unsupported characters which will be renamed to inputs_0, inputs_1 in the SavedModel.\n",
      "WARNING:absl:Found untraced functions such as conv2d_32_layer_call_fn, conv2d_32_layer_call_and_return_conditional_losses, concatenate_22_layer_call_fn, concatenate_22_layer_call_and_return_conditional_losses, conv2d_32_layer_call_fn while saving (showing 5 of 10). These functions will not be directly callable after loading.\n",
      "WARNING:absl:Found untraced functions such as conv2d_33_layer_call_fn, conv2d_33_layer_call_and_return_conditional_losses, conv2d_33_layer_call_fn, conv2d_33_layer_call_and_return_conditional_losses, conv2d_33_layer_call_and_return_conditional_losses while saving (showing 5 of 5). These functions will not be directly callable after loading.\n",
      "WARNING:absl:Found untraced functions such as conv2d_33_layer_call_fn, conv2d_33_layer_call_and_return_conditional_losses, conv2d_33_layer_call_fn, conv2d_33_layer_call_and_return_conditional_losses, conv2d_33_layer_call_and_return_conditional_losses while saving (showing 5 of 5). These functions will not be directly callable after loading.\n",
      "WARNING:absl:Found untraced functions such as conv2d_34_layer_call_fn, conv2d_34_layer_call_and_return_conditional_losses, conv2d_34_layer_call_fn, conv2d_34_layer_call_and_return_conditional_losses, conv2d_34_layer_call_and_return_conditional_losses while saving (showing 5 of 5). These functions will not be directly callable after loading.\n",
      "WARNING:absl:Found untraced functions such as conv2d_34_layer_call_fn, conv2d_34_layer_call_and_return_conditional_losses, conv2d_34_layer_call_fn, conv2d_34_layer_call_and_return_conditional_losses, conv2d_34_layer_call_and_return_conditional_losses while saving (showing 5 of 5). These functions will not be directly callable after loading.\n",
      "WARNING:absl:Function `_wrapped_model` contains input name(s) inputs/0, inputs/1 with unsupported characters which will be renamed to inputs_0, inputs_1 in the SavedModel.\n",
      "WARNING:absl:Found untraced functions such as concatenate_23_layer_call_fn, concatenate_23_layer_call_and_return_conditional_losses, concatenate_23_layer_call_fn, concatenate_23_layer_call_and_return_conditional_losses, concatenate_23_layer_call_and_return_conditional_losses while saving (showing 5 of 5). These functions will not be directly callable after loading.\n",
      "WARNING:absl:Function `_wrapped_model` contains input name(s) inputs/0, inputs/1 with unsupported characters which will be renamed to inputs_0, inputs_1 in the SavedModel.\n",
      "WARNING:absl:Found untraced functions such as concatenate_23_layer_call_fn, concatenate_23_layer_call_and_return_conditional_losses, concatenate_23_layer_call_fn, concatenate_23_layer_call_and_return_conditional_losses, concatenate_23_layer_call_and_return_conditional_losses while saving (showing 5 of 5). These functions will not be directly callable after loading.\n",
      "WARNING:absl:Function `_wrapped_model` contains input name(s) inputs/0, inputs/1 with unsupported characters which will be renamed to inputs_0, inputs_1 in the SavedModel.\n",
      "WARNING:absl:Found untraced functions such as concatenate_24_layer_call_fn, concatenate_24_layer_call_and_return_conditional_losses, concatenate_24_layer_call_fn, concatenate_24_layer_call_and_return_conditional_losses, concatenate_24_layer_call_and_return_conditional_losses while saving (showing 5 of 5). These functions will not be directly callable after loading.\n",
      "WARNING:absl:Function `_wrapped_model` contains input name(s) inputs/0, inputs/1 with unsupported characters which will be renamed to inputs_0, inputs_1 in the SavedModel.\n",
      "WARNING:absl:Found untraced functions such as concatenate_24_layer_call_fn, concatenate_24_layer_call_and_return_conditional_losses, concatenate_24_layer_call_fn, concatenate_24_layer_call_and_return_conditional_losses, concatenate_24_layer_call_and_return_conditional_losses while saving (showing 5 of 5). These functions will not be directly callable after loading.\n",
      "WARNING:absl:Function `_wrapped_model` contains input name(s) inputs/0, inputs/1 with unsupported characters which will be renamed to inputs_0, inputs_1 in the SavedModel.\n",
      "WARNING:absl:Found untraced functions such as concatenate_25_layer_call_fn, concatenate_25_layer_call_and_return_conditional_losses, concatenate_25_layer_call_fn, concatenate_25_layer_call_and_return_conditional_losses, concatenate_25_layer_call_and_return_conditional_losses while saving (showing 5 of 5). These functions will not be directly callable after loading.\n",
      "WARNING:absl:Found untraced functions such as re_lu_48_layer_call_fn, re_lu_48_layer_call_and_return_conditional_losses, re_lu_48_layer_call_fn, re_lu_48_layer_call_and_return_conditional_losses, re_lu_48_layer_call_and_return_conditional_losses while saving (showing 5 of 5). These functions will not be directly callable after loading.\n",
      "WARNING:absl:Function `_wrapped_model` contains input name(s) inputs/0, inputs/1 with unsupported characters which will be renamed to inputs_0, inputs_1 in the SavedModel.\n",
      "WARNING:absl:Found untraced functions such as concatenate_25_layer_call_fn, concatenate_25_layer_call_and_return_conditional_losses, re_lu_48_layer_call_fn, re_lu_48_layer_call_and_return_conditional_losses, concatenate_25_layer_call_fn while saving (showing 5 of 10). These functions will not be directly callable after loading.\n",
      "WARNING:absl:Function `_wrapped_model` contains input name(s) inputs/0, inputs/1 with unsupported characters which will be renamed to inputs_0, inputs_1 in the SavedModel.\n",
      "WARNING:absl:Found untraced functions such as concatenate_26_layer_call_fn, concatenate_26_layer_call_and_return_conditional_losses, concatenate_26_layer_call_fn, concatenate_26_layer_call_and_return_conditional_losses, concatenate_26_layer_call_and_return_conditional_losses while saving (showing 5 of 5). These functions will not be directly callable after loading.\n",
      "WARNING:absl:Function `_wrapped_model` contains input name(s) inputs/0, inputs/1 with unsupported characters which will be renamed to inputs_0, inputs_1 in the SavedModel.\n",
      "WARNING:absl:Found untraced functions such as add_38_layer_call_fn, add_38_layer_call_and_return_conditional_losses, add_38_layer_call_fn, add_38_layer_call_and_return_conditional_losses, add_38_layer_call_and_return_conditional_losses while saving (showing 5 of 5). These functions will not be directly callable after loading.\n",
      "WARNING:absl:Function `_wrapped_model` contains input name(s) inputs/0, inputs/1, inputs/2 with unsupported characters which will be renamed to inputs_0, inputs_1, inputs_2 in the SavedModel.\n",
      "WARNING:absl:Found untraced functions such as concatenate_26_layer_call_fn, concatenate_26_layer_call_and_return_conditional_losses, add_38_layer_call_fn, add_38_layer_call_and_return_conditional_losses, concatenate_26_layer_call_fn while saving (showing 5 of 10). These functions will not be directly callable after loading.\n",
      "WARNING:absl:Function `_wrapped_model` contains input name(s) inputs/0, inputs/1 with unsupported characters which will be renamed to inputs_0, inputs_1 in the SavedModel.\n",
      "WARNING:absl:Found untraced functions such as concatenate_27_layer_call_fn, concatenate_27_layer_call_and_return_conditional_losses, concatenate_27_layer_call_fn, concatenate_27_layer_call_and_return_conditional_losses, concatenate_27_layer_call_and_return_conditional_losses while saving (showing 5 of 5). These functions will not be directly callable after loading.\n",
      "WARNING:absl:Found untraced functions such as conv2d_35_layer_call_fn, conv2d_35_layer_call_and_return_conditional_losses, conv2d_35_layer_call_fn, conv2d_35_layer_call_and_return_conditional_losses, conv2d_35_layer_call_and_return_conditional_losses while saving (showing 5 of 5). These functions will not be directly callable after loading.\n",
      "WARNING:absl:Function `_wrapped_model` contains input name(s) inputs/0, inputs/1 with unsupported characters which will be renamed to inputs_0, inputs_1 in the SavedModel.\n",
      "WARNING:absl:Found untraced functions such as concatenate_27_layer_call_fn, concatenate_27_layer_call_and_return_conditional_losses, conv2d_35_layer_call_fn, conv2d_35_layer_call_and_return_conditional_losses, concatenate_27_layer_call_fn while saving (showing 5 of 10). These functions will not be directly callable after loading.\n",
      "WARNING:absl:Function `_wrapped_model` contains input name(s) inputs/0, inputs/1 with unsupported characters which will be renamed to inputs_0, inputs_1 in the SavedModel.\n",
      "WARNING:absl:Found untraced functions such as concatenate_28_layer_call_fn, concatenate_28_layer_call_and_return_conditional_losses, concatenate_28_layer_call_fn, concatenate_28_layer_call_and_return_conditional_losses, concatenate_28_layer_call_and_return_conditional_losses while saving (showing 5 of 5). These functions will not be directly callable after loading.\n",
      "WARNING:absl:Function `_wrapped_model` contains input name(s) inputs/0, inputs/1 with unsupported characters which will be renamed to inputs_0, inputs_1 in the SavedModel.\n",
      "WARNING:absl:Found untraced functions such as concatenate_29_layer_call_fn, concatenate_29_layer_call_and_return_conditional_losses, concatenate_29_layer_call_fn, concatenate_29_layer_call_and_return_conditional_losses, concatenate_29_layer_call_and_return_conditional_losses while saving (showing 5 of 5). These functions will not be directly callable after loading.\n",
      "WARNING:absl:Function `_wrapped_model` contains input name(s) inputs/0, inputs/1, inputs/2 with unsupported characters which will be renamed to inputs_0, inputs_1, inputs_2 in the SavedModel.\n",
      "WARNING:absl:Found untraced functions such as concatenate_28_layer_call_fn, concatenate_28_layer_call_and_return_conditional_losses, concatenate_29_layer_call_fn, concatenate_29_layer_call_and_return_conditional_losses, concatenate_28_layer_call_fn while saving (showing 5 of 10). These functions will not be directly callable after loading.\n",
      "WARNING:absl:Function `_wrapped_model` contains input name(s) inputs/0, inputs/1 with unsupported characters which will be renamed to inputs_0, inputs_1 in the SavedModel.\n",
      "WARNING:absl:Found untraced functions such as concatenate_30_layer_call_fn, concatenate_30_layer_call_and_return_conditional_losses, concatenate_30_layer_call_fn, concatenate_30_layer_call_and_return_conditional_losses, concatenate_30_layer_call_and_return_conditional_losses while saving (showing 5 of 5). These functions will not be directly callable after loading.\n",
      "WARNING:absl:Function `_wrapped_model` contains input name(s) inputs/0, inputs/1 with unsupported characters which will be renamed to inputs_0, inputs_1 in the SavedModel.\n",
      "WARNING:absl:Found untraced functions such as concatenate_30_layer_call_fn, concatenate_30_layer_call_and_return_conditional_losses, concatenate_30_layer_call_fn, concatenate_30_layer_call_and_return_conditional_losses, concatenate_30_layer_call_and_return_conditional_losses while saving (showing 5 of 5). These functions will not be directly callable after loading.\n",
      "WARNING:absl:Function `_wrapped_model` contains input name(s) inputs/0, inputs/1 with unsupported characters which will be renamed to inputs_0, inputs_1 in the SavedModel.\n",
      "WARNING:absl:Found untraced functions such as concatenate_31_layer_call_fn, concatenate_31_layer_call_and_return_conditional_losses, concatenate_31_layer_call_fn, concatenate_31_layer_call_and_return_conditional_losses, concatenate_31_layer_call_and_return_conditional_losses while saving (showing 5 of 5). These functions will not be directly callable after loading.\n",
      "WARNING:absl:Found untraced functions such as dense_10_layer_call_fn, dense_10_layer_call_and_return_conditional_losses, dense_10_layer_call_fn, dense_10_layer_call_and_return_conditional_losses, dense_10_layer_call_and_return_conditional_losses while saving (showing 5 of 5). These functions will not be directly callable after loading.\n",
      "WARNING:absl:Function `_wrapped_model` contains input name(s) inputs/0, inputs/1 with unsupported characters which will be renamed to inputs_0, inputs_1 in the SavedModel.\n",
      "WARNING:absl:Found untraced functions such as concatenate_31_layer_call_fn, concatenate_31_layer_call_and_return_conditional_losses, dense_10_layer_call_fn, dense_10_layer_call_and_return_conditional_losses, concatenate_31_layer_call_fn while saving (showing 5 of 10). These functions will not be directly callable after loading.\n",
      "WARNING:absl:Function `_wrapped_model` contains input name(s) inputs/0, inputs/1 with unsupported characters which will be renamed to inputs_0, inputs_1 in the SavedModel.\n",
      "WARNING:absl:Found untraced functions such as concatenate_32_layer_call_fn, concatenate_32_layer_call_and_return_conditional_losses, concatenate_32_layer_call_fn, concatenate_32_layer_call_and_return_conditional_losses, concatenate_32_layer_call_and_return_conditional_losses while saving (showing 5 of 5). These functions will not be directly callable after loading.\n",
      "WARNING:absl:Function `_wrapped_model` contains input name(s) inputs/0, inputs/1 with unsupported characters which will be renamed to inputs_0, inputs_1 in the SavedModel.\n",
      "WARNING:absl:Found untraced functions such as concatenate_32_layer_call_fn, concatenate_32_layer_call_and_return_conditional_losses, concatenate_32_layer_call_fn, concatenate_32_layer_call_and_return_conditional_losses, concatenate_32_layer_call_and_return_conditional_losses while saving (showing 5 of 5). These functions will not be directly callable after loading.\n",
      "WARNING:absl:Found untraced functions such as re_lu_49_layer_call_fn, re_lu_49_layer_call_and_return_conditional_losses, re_lu_49_layer_call_fn, re_lu_49_layer_call_and_return_conditional_losses, re_lu_49_layer_call_and_return_conditional_losses while saving (showing 5 of 5). These functions will not be directly callable after loading.\n",
      "WARNING:absl:Found untraced functions such as re_lu_49_layer_call_fn, re_lu_49_layer_call_and_return_conditional_losses, re_lu_49_layer_call_fn, re_lu_49_layer_call_and_return_conditional_losses, re_lu_49_layer_call_and_return_conditional_losses while saving (showing 5 of 5). These functions will not be directly callable after loading.\n",
      "WARNING:absl:Function `_wrapped_model` contains input name(s) inputs/0, inputs/1 with unsupported characters which will be renamed to inputs_0, inputs_1 in the SavedModel.\n",
      "WARNING:absl:Found untraced functions such as add_39_layer_call_fn, add_39_layer_call_and_return_conditional_losses, add_39_layer_call_fn, add_39_layer_call_and_return_conditional_losses, add_39_layer_call_and_return_conditional_losses while saving (showing 5 of 5). These functions will not be directly callable after loading.\n",
      "WARNING:absl:Function `_wrapped_model` contains input name(s) inputs/0, inputs/1 with unsupported characters which will be renamed to inputs_0, inputs_1 in the SavedModel.\n",
      "WARNING:absl:Found untraced functions such as add_39_layer_call_fn, add_39_layer_call_and_return_conditional_losses, add_39_layer_call_fn, add_39_layer_call_and_return_conditional_losses, add_39_layer_call_and_return_conditional_losses while saving (showing 5 of 5). These functions will not be directly callable after loading.\n",
      "WARNING:absl:Found untraced functions such as conv2d_36_layer_call_fn, conv2d_36_layer_call_and_return_conditional_losses, conv2d_36_layer_call_fn, conv2d_36_layer_call_and_return_conditional_losses, conv2d_36_layer_call_and_return_conditional_losses while saving (showing 5 of 5). These functions will not be directly callable after loading.\n",
      "WARNING:absl:Found untraced functions such as conv2d_36_layer_call_fn, conv2d_36_layer_call_and_return_conditional_losses, conv2d_36_layer_call_fn, conv2d_36_layer_call_and_return_conditional_losses, conv2d_36_layer_call_and_return_conditional_losses while saving (showing 5 of 5). These functions will not be directly callable after loading.\n",
      "WARNING:absl:Function `_wrapped_model` contains input name(s) inputs/0, inputs/1 with unsupported characters which will be renamed to inputs_0, inputs_1 in the SavedModel.\n",
      "WARNING:absl:Found untraced functions such as concatenate_33_layer_call_fn, concatenate_33_layer_call_and_return_conditional_losses, concatenate_33_layer_call_fn, concatenate_33_layer_call_and_return_conditional_losses, concatenate_33_layer_call_and_return_conditional_losses while saving (showing 5 of 5). These functions will not be directly callable after loading.\n",
      "WARNING:absl:Function `_wrapped_model` contains input name(s) inputs/0, inputs/1 with unsupported characters which will be renamed to inputs_0, inputs_1 in the SavedModel.\n",
      "WARNING:absl:Found untraced functions such as concatenate_33_layer_call_fn, concatenate_33_layer_call_and_return_conditional_losses, concatenate_33_layer_call_fn, concatenate_33_layer_call_and_return_conditional_losses, concatenate_33_layer_call_and_return_conditional_losses while saving (showing 5 of 5). These functions will not be directly callable after loading.\n",
      "WARNING:absl:Found untraced functions such as dense_11_layer_call_fn, dense_11_layer_call_and_return_conditional_losses, dense_11_layer_call_fn, dense_11_layer_call_and_return_conditional_losses, dense_11_layer_call_and_return_conditional_losses while saving (showing 5 of 5). These functions will not be directly callable after loading.\n",
      "WARNING:absl:Found untraced functions such as re_lu_50_layer_call_fn, re_lu_50_layer_call_and_return_conditional_losses, re_lu_50_layer_call_fn, re_lu_50_layer_call_and_return_conditional_losses, re_lu_50_layer_call_and_return_conditional_losses while saving (showing 5 of 5). These functions will not be directly callable after loading.\n",
      "WARNING:absl:Found untraced functions such as dense_11_layer_call_fn, dense_11_layer_call_and_return_conditional_losses, re_lu_50_layer_call_fn, re_lu_50_layer_call_and_return_conditional_losses, dense_11_layer_call_fn while saving (showing 5 of 10). These functions will not be directly callable after loading.\n",
      "WARNING:absl:Found untraced functions such as dense_12_layer_call_fn, dense_12_layer_call_and_return_conditional_losses, dense_12_layer_call_fn, dense_12_layer_call_and_return_conditional_losses, dense_12_layer_call_and_return_conditional_losses while saving (showing 5 of 5). These functions will not be directly callable after loading.\n",
      "WARNING:absl:Function `_wrapped_model` contains input name(s) inputs/0, inputs/1 with unsupported characters which will be renamed to inputs_0, inputs_1 in the SavedModel.\n",
      "WARNING:absl:Found untraced functions such as add_40_layer_call_fn, add_40_layer_call_and_return_conditional_losses, add_40_layer_call_fn, add_40_layer_call_and_return_conditional_losses, add_40_layer_call_and_return_conditional_losses while saving (showing 5 of 5). These functions will not be directly callable after loading.\n",
      "WARNING:absl:Function `_wrapped_model` contains input name(s) inputs/0, inputs/1 with unsupported characters which will be renamed to inputs_0, inputs_1 in the SavedModel.\n",
      "WARNING:absl:Found untraced functions such as dense_12_layer_call_fn, dense_12_layer_call_and_return_conditional_losses, add_40_layer_call_fn, add_40_layer_call_and_return_conditional_losses, dense_12_layer_call_fn while saving (showing 5 of 10). These functions will not be directly callable after loading.\n",
      "WARNING:absl:Found untraced functions such as dense_13_layer_call_fn, dense_13_layer_call_and_return_conditional_losses, dense_13_layer_call_fn, dense_13_layer_call_and_return_conditional_losses, dense_13_layer_call_and_return_conditional_losses while saving (showing 5 of 5). These functions will not be directly callable after loading.\n",
      "WARNING:absl:Function `_wrapped_model` contains input name(s) inputs/0, inputs/1 with unsupported characters which will be renamed to inputs_0, inputs_1 in the SavedModel.\n",
      "WARNING:absl:Found untraced functions such as concatenate_34_layer_call_fn, concatenate_34_layer_call_and_return_conditional_losses, concatenate_34_layer_call_fn, concatenate_34_layer_call_and_return_conditional_losses, concatenate_34_layer_call_and_return_conditional_losses while saving (showing 5 of 5). These functions will not be directly callable after loading.\n",
      "WARNING:absl:Function `_wrapped_model` contains input name(s) inputs/0, inputs/1 with unsupported characters which will be renamed to inputs_0, inputs_1 in the SavedModel.\n",
      "WARNING:absl:Found untraced functions such as dense_13_layer_call_fn, dense_13_layer_call_and_return_conditional_losses, concatenate_34_layer_call_fn, concatenate_34_layer_call_and_return_conditional_losses, dense_13_layer_call_fn while saving (showing 5 of 10). These functions will not be directly callable after loading.\n",
      "WARNING:absl:Found untraced functions such as dense_14_layer_call_fn, dense_14_layer_call_and_return_conditional_losses, dense_14_layer_call_fn, dense_14_layer_call_and_return_conditional_losses, dense_14_layer_call_and_return_conditional_losses while saving (showing 5 of 5). These functions will not be directly callable after loading.\n",
      "WARNING:absl:Found untraced functions such as dense_15_layer_call_fn, dense_15_layer_call_and_return_conditional_losses, dense_15_layer_call_fn, dense_15_layer_call_and_return_conditional_losses, dense_15_layer_call_and_return_conditional_losses while saving (showing 5 of 5). These functions will not be directly callable after loading.\n",
      "WARNING:absl:Found untraced functions such as dense_14_layer_call_fn, dense_14_layer_call_and_return_conditional_losses, dense_15_layer_call_fn, dense_15_layer_call_and_return_conditional_losses, dense_14_layer_call_fn while saving (showing 5 of 10). These functions will not be directly callable after loading.\n",
      "WARNING:absl:Found untraced functions such as re_lu_51_layer_call_fn, re_lu_51_layer_call_and_return_conditional_losses, re_lu_51_layer_call_fn, re_lu_51_layer_call_and_return_conditional_losses, re_lu_51_layer_call_and_return_conditional_losses while saving (showing 5 of 5). These functions will not be directly callable after loading.\n",
      "WARNING:absl:Found untraced functions such as re_lu_51_layer_call_fn, re_lu_51_layer_call_and_return_conditional_losses, re_lu_51_layer_call_fn, re_lu_51_layer_call_and_return_conditional_losses, re_lu_51_layer_call_and_return_conditional_losses while saving (showing 5 of 5). These functions will not be directly callable after loading.\n",
      "WARNING:absl:Function `_wrapped_model` contains input name(s) inputs/0, inputs/1 with unsupported characters which will be renamed to inputs_0, inputs_1 in the SavedModel.\n",
      "WARNING:absl:Found untraced functions such as add_41_layer_call_fn, add_41_layer_call_and_return_conditional_losses, add_41_layer_call_fn, add_41_layer_call_and_return_conditional_losses, add_41_layer_call_and_return_conditional_losses while saving (showing 5 of 5). These functions will not be directly callable after loading.\n",
      "WARNING:absl:Function `_wrapped_model` contains input name(s) inputs/0, inputs/1 with unsupported characters which will be renamed to inputs_0, inputs_1 in the SavedModel.\n",
      "WARNING:absl:Found untraced functions such as add_41_layer_call_fn, add_41_layer_call_and_return_conditional_losses, add_41_layer_call_fn, add_41_layer_call_and_return_conditional_losses, add_41_layer_call_and_return_conditional_losses while saving (showing 5 of 5). These functions will not be directly callable after loading.\n",
      "WARNING:absl:Found untraced functions such as conv2d_37_layer_call_fn, conv2d_37_layer_call_and_return_conditional_losses, conv2d_37_layer_call_fn, conv2d_37_layer_call_and_return_conditional_losses, conv2d_37_layer_call_and_return_conditional_losses while saving (showing 5 of 5). These functions will not be directly callable after loading.\n",
      "WARNING:absl:Found untraced functions such as conv2d_37_layer_call_fn, conv2d_37_layer_call_and_return_conditional_losses, conv2d_37_layer_call_fn, conv2d_37_layer_call_and_return_conditional_losses, conv2d_37_layer_call_and_return_conditional_losses while saving (showing 5 of 5). These functions will not be directly callable after loading.\n",
      "WARNING:absl:Function `_wrapped_model` contains input name(s) inputs/0, inputs/1 with unsupported characters which will be renamed to inputs_0, inputs_1 in the SavedModel.\n",
      "WARNING:absl:Found untraced functions such as concatenate_35_layer_call_fn, concatenate_35_layer_call_and_return_conditional_losses, concatenate_35_layer_call_fn, concatenate_35_layer_call_and_return_conditional_losses, concatenate_35_layer_call_and_return_conditional_losses while saving (showing 5 of 5). These functions will not be directly callable after loading.\n",
      "WARNING:absl:Function `_wrapped_model` contains input name(s) inputs/0, inputs/1 with unsupported characters which will be renamed to inputs_0, inputs_1 in the SavedModel.\n",
      "WARNING:absl:Found untraced functions such as concatenate_35_layer_call_fn, concatenate_35_layer_call_and_return_conditional_losses, concatenate_35_layer_call_fn, concatenate_35_layer_call_and_return_conditional_losses, concatenate_35_layer_call_and_return_conditional_losses while saving (showing 5 of 5). These functions will not be directly callable after loading.\n",
      "WARNING:absl:Found untraced functions such as conv2d_38_layer_call_fn, conv2d_38_layer_call_and_return_conditional_losses, conv2d_38_layer_call_fn, conv2d_38_layer_call_and_return_conditional_losses, conv2d_38_layer_call_and_return_conditional_losses while saving (showing 5 of 5). These functions will not be directly callable after loading.\n",
      "WARNING:absl:Found untraced functions such as conv2d_38_layer_call_fn, conv2d_38_layer_call_and_return_conditional_losses, conv2d_38_layer_call_fn, conv2d_38_layer_call_and_return_conditional_losses, conv2d_38_layer_call_and_return_conditional_losses while saving (showing 5 of 5). These functions will not be directly callable after loading.\n",
      "WARNING:absl:Found untraced functions such as conv2d_39_layer_call_fn, conv2d_39_layer_call_and_return_conditional_losses, conv2d_39_layer_call_fn, conv2d_39_layer_call_and_return_conditional_losses, conv2d_39_layer_call_and_return_conditional_losses while saving (showing 5 of 5). These functions will not be directly callable after loading.\n",
      "WARNING:absl:Found untraced functions such as conv2d_40_layer_call_fn, conv2d_40_layer_call_and_return_conditional_losses, conv2d_41_layer_call_fn, conv2d_41_layer_call_and_return_conditional_losses, conv2d_40_layer_call_fn while saving (showing 5 of 10). These functions will not be directly callable after loading.\n",
      "WARNING:absl:Found untraced functions such as conv2d_39_layer_call_fn, conv2d_39_layer_call_and_return_conditional_losses, conv2d_39_layer_call_fn, conv2d_39_layer_call_and_return_conditional_losses, conv2d_39_layer_call_and_return_conditional_losses while saving (showing 5 of 15). These functions will not be directly callable after loading.\n",
      "WARNING:absl:Found untraced functions such as conv2d_42_layer_call_fn, conv2d_42_layer_call_and_return_conditional_losses, conv2d_43_layer_call_fn, conv2d_43_layer_call_and_return_conditional_losses, conv2d_42_layer_call_fn while saving (showing 5 of 10). These functions will not be directly callable after loading.\n",
      "WARNING:absl:Found untraced functions such as re_lu_52_layer_call_fn, re_lu_52_layer_call_and_return_conditional_losses, re_lu_52_layer_call_fn, re_lu_52_layer_call_and_return_conditional_losses, re_lu_52_layer_call_and_return_conditional_losses while saving (showing 5 of 5). These functions will not be directly callable after loading.\n",
      "WARNING:absl:Found untraced functions such as re_lu_52_layer_call_fn, re_lu_52_layer_call_and_return_conditional_losses, conv2d_42_layer_call_fn, conv2d_42_layer_call_and_return_conditional_losses, conv2d_43_layer_call_fn while saving (showing 5 of 15). These functions will not be directly callable after loading.\n"
     ]
    }
   ],
   "source": [
    "# connect to backend\n",
    "backend = connect_backend(backend='tflite_cpu')\n",
    "\n",
    "# run testcases and collect profiling results\n",
    "profiled_testcases = run_testcases(backend, origin_testcases)\n"
   ]
  },
  {
   "cell_type": "markdown",
   "metadata": {},
   "source": [
    "`backend` refers to the framework of the platform and device to execute the model. Currently we provide three instance on two platforms, i.e., CPU backend, GPU backend with TFLite platform, and VPU backend with OpenVINO platform. Refer to [backend guidance](../docs/builder/backend.md) for how to setup the device and get connection to the backend. In case having run test cases before, user could also use test case json file to avoid running test cases again:"
   ]
  },
  {
   "cell_type": "code",
   "execution_count": 9,
   "metadata": {},
   "outputs": [],
   "source": [
    "profiled_testcases = os.path.join(workspace_path, \"results\", \"profiled_testcases.json\")"
   ]
  },
  {
   "cell_type": "markdown",
   "metadata": {},
   "source": [
    "Finally, users could detect the fusion rule according to profiled test cases by running the following code. After running `detect_fusionrule`, a json file named `<workspace-path>/results/detected_testcases.json` will be created as the detection result. The result shows each test case obeys the fusion rule or not."
   ]
  },
  {
   "cell_type": "code",
   "execution_count": 8,
   "metadata": {},
   "outputs": [],
   "source": [
    "# determine fusion rules from profiling results\n",
    "detected_testcases = detect_fusionrule(profiled_testcases)"
   ]
  }
 ],
 "metadata": {
  "interpreter": {
   "hash": "e8b26d4e88bfd67f05264bddcd3043513b547d3c68498482ebbb5473451a395f"
  },
  "kernelspec": {
   "display_name": "Python 3.6.10 64-bit ('py36-Jiahang': conda)",
   "name": "python3"
  },
  "language_info": {
   "codemirror_mode": {
    "name": "ipython",
    "version": 3
   },
   "file_extension": ".py",
   "mimetype": "text/x-python",
   "name": "python",
   "nbconvert_exporter": "python",
   "pygments_lexer": "ipython3",
   "version": "3.6.10"
  },
  "orig_nbformat": 4
 },
 "nbformat": 4,
 "nbformat_minor": 2
}
